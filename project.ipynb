{
 "cells": [
  {
   "cell_type": "markdown",
   "id": "124e5672",
   "metadata": {},
   "source": [
    "# Custom Chatbot Project"
   ]
  },
  {
   "cell_type": "markdown",
   "id": "2a4a94b3",
   "metadata": {},
   "source": [
    "TODO: In this cell, write an explanation of which dataset you have chosen and why it is appropriate for this task\n",
    "\n",
    "\n",
    "For this task, I chose \"nyc_food_scrap_drop_off_sites\" csv data. This has been chosen because of following reasons:\n",
    "\n",
    "1. Interested to know how the LLM analyzes CSV Data.\n",
    "2. Whether the LLM inferences improve if the CSV format is defined in the prompt.\n",
    "3. Limitations in terms of the number of tokens that can be provided in the prompt.\n",
    "4. Whether the LLM is good at analyzing numbers like times and days.\n",
    "5. This kind of data is dynamic and so it is critical to always use the latest data."
   ]
  },
  {
   "cell_type": "markdown",
   "id": "a63d4c5f",
   "metadata": {},
   "source": [
    "## Data Wrangling\n",
    "\n",
    "TODO: In the cells below, load your chosen dataset into a `pandas` dataframe with a column named `\"text\"`. This column should contain all of your text data, separated into at least 20 rows."
   ]
  },
  {
   "cell_type": "code",
   "execution_count": 32,
   "id": "c69b83a1",
   "metadata": {},
   "outputs": [],
   "source": [
    "from dateutil.parser import parse\n",
    "import pandas as pd\n",
    "import requests\n",
    "\n",
    "# Get the data from data folder\n",
    "df = pd.read_csv('data/nyc_food_scrap_drop_off_sites.csv')\n"
   ]
  },
  {
   "cell_type": "code",
   "execution_count": 33,
   "id": "0a595980",
   "metadata": {},
   "outputs": [],
   "source": [
    "# Check if the required columns are present\n",
    "required_columns = ['borough', 'food_scrap_drop_off_site', 'location', 'open_months', 'operation_day_hours']\n",
    "if not all(col in df.columns for col in required_columns):\n",
    "    raise ValueError(\"CSV file must contain the following columns: \" + \", \".join(required_columns))\n",
    "\n",
    "# Combine the specified columns into a single 'text' column\n",
    "df['text'] = df[required_columns].astype(str).agg('|'.join, axis=1)\n",
    "\n",
    "df = df[['text']]\n",
    "\n",
    "#df = df[:1]\n",
    "\n",
    "#df"
   ]
  },
  {
   "cell_type": "code",
   "execution_count": null,
   "id": "acb3a9fd",
   "metadata": {},
   "outputs": [],
   "source": []
  },
  {
   "cell_type": "markdown",
   "id": "ae769871",
   "metadata": {},
   "source": [
    "## Custom Query Completion\n",
    "\n",
    "TODO: In the cells below, compose a custom query using your chosen dataset and retrieve results from an OpenAI `Completion` model. You may copy and paste any useful code from the course materials."
   ]
  },
  {
   "cell_type": "code",
   "execution_count": 8,
   "id": "582f0656",
   "metadata": {},
   "outputs": [],
   "source": [
    "import openai\n",
    "import tiktoken\n",
    "\n",
    "openai.api_base = \"https://openai.vocareum.com/v1\"\n",
    "openai.api_key = \"YOUR API KEY\"\n",
    "COMPLETION_MODEL_NAME = \"gpt-3.5-turbo-instruct\"\n",
    "\n"
   ]
  },
  {
   "cell_type": "code",
   "execution_count": 9,
   "id": "8b6e1f75",
   "metadata": {},
   "outputs": [],
   "source": [
    "def basic_prompt(question):\n",
    "    return question\n"
   ]
  },
  {
   "cell_type": "code",
   "execution_count": 10,
   "id": "13f2dcd7",
   "metadata": {},
   "outputs": [],
   "source": [
    "def create_custom_prompt_tokenized(question, df, max_token_count):\n",
    "\n",
    "    # Create a tokenizer that is designed to align with our embeddings\n",
    "    tokenizer = tiktoken.get_encoding(\"cl100k_base\")\n",
    "    \n",
    "    # Count the number of tokens in the prompt template and question\n",
    "    prompt_template = \"\"\"\n",
    "    \n",
    "Answer the question based on the context below and if the question\n",
    "can't be answered based on the context, say \"I don't know\". \n",
    "\n",
    "The context contains information about food scrap drop-off sites with the following columns delimited by |:\n",
    "1. borough: String - The name of the borough.\n",
    "2. food_scrap_drop_off_site: String - The name of the food scrap drop-off site.\n",
    "3. location: String - The address or location of the drop-off site.\n",
    "4. open_months: String - The months during which the site is open.\n",
    "5. operation_day_hours: String - The days and hours during which the site operates.\n",
    "\\n\\n\n",
    "\n",
    "Context: \n",
    "\n",
    "{}\n",
    "\n",
    "---\n",
    "\n",
    "Question: {}\n",
    "Answer:\"\"\"\n",
    "    \n",
    "    current_token_count = len(tokenizer.encode(prompt_template)) + \\\n",
    "                            len(tokenizer.encode(question))\n",
    "    \n",
    "    context = []\n",
    "    for text in df[\"text\"].values:\n",
    "        \n",
    "        #print(text)\n",
    "        \n",
    "        # Increase the counter based on the number of tokens in this row\n",
    "        text_token_count = len(tokenizer.encode(text))\n",
    "        current_token_count += text_token_count\n",
    "        \n",
    "        # Add the row of text to the list if we haven't exceeded the max\n",
    "        if current_token_count <= max_token_count:\n",
    "            context.append(text)\n",
    "        else:\n",
    "            break\n",
    "\n",
    "    return prompt_template.format(\"\\n\\n###\\n\\n\".join(context), question)\n",
    "\n",
    "\n"
   ]
  },
  {
   "cell_type": "code",
   "execution_count": 11,
   "id": "c403f543",
   "metadata": {},
   "outputs": [],
   "source": [
    "def create_custom_prompt_not_tokenized(df, question):\n",
    "    prompt = \"Based on the following food scrap drop-off site information:\\n\\n\"\n",
    "       \n",
    "    for _, row in df.iterrows():\n",
    "        prompt += f\"- {row['text']}\"\n",
    "    prompt += \"\\n\"\n",
    "    prompt += question_prompt\n",
    "    return prompt\n",
    "\n"
   ]
  },
  {
   "cell_type": "code",
   "execution_count": 15,
   "id": "76bb310f",
   "metadata": {},
   "outputs": [],
   "source": [
    "def answer_question(\n",
    "    prompt, max_answer_tokens=150\n",
    "):\n",
    "\n",
    "    try:\n",
    "        response = openai.Completion.create(\n",
    "            model=COMPLETION_MODEL_NAME,\n",
    "            prompt=prompt,\n",
    "            max_tokens=max_answer_tokens\n",
    "        )\n",
    "        return response[\"choices\"][0][\"text\"].strip()\n",
    "    except Exception as e:\n",
    "        print(e)\n",
    "        return \"\"\n",
    "    \n"
   ]
  },
  {
   "cell_type": "markdown",
   "id": "1783f146",
   "metadata": {},
   "source": [
    "## Custom Performance Demonstration\n",
    "\n",
    "TODO: In the cells below, demonstrate the performance of your custom query using at least 2 questions. For each question, show the answer from a basic `Completion` model query as well as the answer from your custom query."
   ]
  },
  {
   "cell_type": "markdown",
   "id": "4f11fdc0",
   "metadata": {},
   "source": [
    "### Question 1"
   ]
  },
  {
   "cell_type": "code",
   "execution_count": 13,
   "id": "d37d8a75",
   "metadata": {},
   "outputs": [],
   "source": [
    "question = \"\"\"\n",
    "Question: \"What are the drop off locations and drop off time for scrap food in Bronx?\"\n",
    "Answer:\n",
    "\"\"\""
   ]
  },
  {
   "cell_type": "code",
   "execution_count": 16,
   "id": "4901c850",
   "metadata": {},
   "outputs": [
    {
     "name": "stdout",
     "output_type": "stream",
     "text": [
      "\n",
      "\n",
      "\n",
      "Answer-Basic Prompt:\n",
      "\n",
      "I am unable to locate specific drop off locations and drop off times for scrap food in the Bronx. It is recommended to contact local organizations or composting facilities for more information on their specific drop off locations and hours. Additionally, some farmers markets and community gardens may also accept food scraps for composting.\n"
     ]
    }
   ],
   "source": [
    "print(\"\\n\\n\\nAnswer-Basic Prompt:\\n\")        \n",
    "print(answer_question(basic_prompt(question)))  "
   ]
  },
  {
   "cell_type": "code",
   "execution_count": 18,
   "id": "bd7a093b",
   "metadata": {},
   "outputs": [
    {
     "name": "stdout",
     "output_type": "stream",
     "text": [
      "\n",
      "\n",
      "\n",
      "Answer-Custom Prompt:\n",
      "\n",
      "Bronx|SE Corner of Eastburn Avenue & East 174th Street|SE Eastburn Avenue & East 174th Street|Year Round|24/7 and Bronx|SE Corner of Field Place & Morris Avenue|nan|Year Round|24/7\n"
     ]
    }
   ],
   "source": [
    "print(\"\\n\\n\\nAnswer-Custom Prompt:\\n\")        \n",
    "print(answer_question(create_custom_prompt_tokenized(question, df, 1800)))  "
   ]
  },
  {
   "cell_type": "markdown",
   "id": "6e86e37c",
   "metadata": {},
   "source": [
    "### Question 2"
   ]
  },
  {
   "cell_type": "code",
   "execution_count": 39,
   "id": "6f646989",
   "metadata": {},
   "outputs": [],
   "source": [
    "question = \"\"\"\n",
    "Question: \"What boroughs are available for drop off of scrap food on Friday?\"\n",
    "Answer:\n",
    "\"\"\""
   ]
  },
  {
   "cell_type": "code",
   "execution_count": 30,
   "id": "2d3a0c97",
   "metadata": {},
   "outputs": [
    {
     "name": "stdout",
     "output_type": "stream",
     "text": [
      "\n",
      "\n",
      "\n",
      "Answer-Basic Prompt:\n",
      "\n",
      "I'm sorry, I cannot provide specific information on drop off locations. Please contact your local waste management or recycling center for more information on their food scrap collection programs and drop off locations for Fridays.\n"
     ]
    }
   ],
   "source": [
    "print(\"\\n\\n\\nAnswer-Basic Prompt:\\n\")        \n",
    "print(answer_question(basic_prompt(question)))  "
   ]
  },
  {
   "cell_type": "code",
   "execution_count": 40,
   "id": "11c07a54",
   "metadata": {},
   "outputs": [
    {
     "name": "stdout",
     "output_type": "stream",
     "text": [
      "\n",
      "\n",
      "\n",
      "Answer-Custom Prompt:\n",
      "\n",
      "Staten Island.\n"
     ]
    }
   ],
   "source": [
    "print(\"\\n\\n\\nAnswer-Custom Prompt:\\n\")        \n",
    "print(answer_question(create_custom_prompt_tokenized(question, df, 1800)))  "
   ]
  },
  {
   "cell_type": "code",
   "execution_count": null,
   "id": "a352f212",
   "metadata": {},
   "outputs": [],
   "source": []
  }
 ],
 "metadata": {
  "kernelspec": {
   "display_name": "Python 3 (ipykernel)",
   "language": "python",
   "name": "python3"
  },
  "language_info": {
   "codemirror_mode": {
    "name": "ipython",
    "version": 3
   },
   "file_extension": ".py",
   "mimetype": "text/x-python",
   "name": "python",
   "nbconvert_exporter": "python",
   "pygments_lexer": "ipython3",
   "version": "3.9.18"
  }
 },
 "nbformat": 4,
 "nbformat_minor": 5
}
